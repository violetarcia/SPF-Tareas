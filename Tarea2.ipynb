{
 "cells": [
  {
   "cell_type": "markdown",
   "metadata": {},
   "source": [
    "## Tarea 2: (Usando notebook de jupyter)** \n",
    "\n",
    "### Karen Violeta García Hernández\n"
   ]
  },
  {
   "cell_type": "markdown",
   "metadata": {},
   "source": [
    "- Write a Python program to convert a list of numeric value into a one-dimensional NumPy array.\n",
    "> \t- Expected Output:\\\\\n",
    "> \t- Original List: [12.23, 13.32, 100, 36.32]\\\\\n",
    "> \t- One-dimensional numpy array: [ 12.23 13.32 100. 36.32] "
   ]
  },
  {
   "cell_type": "code",
   "execution_count": 12,
   "metadata": {},
   "outputs": [
    {
     "name": "stdout",
     "output_type": "stream",
     "text": [
      "[ 12.23  13.23 100.    36.32]\n"
     ]
    }
   ],
   "source": [
    "import numpy as np\n",
    "\n",
    "def npArray(list):\n",
    "    a = np.array(list)\n",
    "    return a\n",
    "\n",
    "originalList = [12.23, 13.23, 100, 36.32]\n",
    "numpyArray = npArray(originalList)\n",
    "print(numpyArray)"
   ]
  },
  {
   "cell_type": "markdown",
   "metadata": {},
   "source": [
    "\n",
    " - Write a Python program to create a null vector of size 10 and update sixth value to 11.\n"
   ]
  },
  {
   "cell_type": "code",
   "execution_count": 5,
   "metadata": {},
   "outputs": [
    {
     "name": "stdout",
     "output_type": "stream",
     "text": [
      "[ 0.  0.  0.  0.  0. 11.  0.  0.  0.  0.]\n"
     ]
    }
   ],
   "source": [
    "nullVector = np.zeros(10)\n",
    "nullVector[5] = 11\n",
    "print(nullVector)"
   ]
  },
  {
   "cell_type": "markdown",
   "metadata": {},
   "source": [
    "\n",
    "- Write a Python program to create a array with values ranging from 12 to 38.\n"
   ]
  },
  {
   "cell_type": "code",
   "execution_count": 8,
   "metadata": {},
   "outputs": [
    {
     "name": "stdout",
     "output_type": "stream",
     "text": [
      "[25 20 36 27 36 25 33 37 25 18]\n"
     ]
    }
   ],
   "source": [
    "arrayRang = np.random.randint(12,38,10)\n",
    "print(arrayRang)"
   ]
  },
  {
   "cell_type": "markdown",
   "metadata": {},
   "source": [
    "\n",
    "- Write a Python program to reverse an array (first element becomes last).\n",
    " "
   ]
  },
  {
   "cell_type": "code",
   "execution_count": 13,
   "metadata": {},
   "outputs": [
    {
     "name": "stdout",
     "output_type": "stream",
     "text": [
      "[ 36.32 100.    13.23  12.23]\n"
     ]
    }
   ],
   "source": [
    "def reverseArray(array):\n",
    "    rev = np.flipud(array)\n",
    "    return rev\n",
    "\n",
    "numpyArray = reverseArray(numpyArray)\n",
    "print(numpyArray)"
   ]
  },
  {
   "cell_type": "markdown",
   "metadata": {},
   "source": [
    "\n",
    "- Write a Python program to create a 2d array with 1 on the border and 0 inside.\n",
    ">     Expected Output:\n",
    "> \t- Original array:\n",
    "> $$\n",
    "     \\begin{pmatrix}\n",
    "     1. &1.& 1.& 1.& 1.\\\\\n",
    "     1. &1.& 1.& 1.& 1.\\\\\n",
    "     1. &1.& 1.& 1.& 1.\\\\\n",
    "     1. &1.& 1.& 1.& 1.\\\\\n",
    "     1. &1.& 1.& 1.& 1.\n",
    "     \\end{pmatrix}\n",
    "     $$\n",
    "> \t1 on the border and 0 inside in the array\n",
    "     $$\n",
    "     \\begin{pmatrix}\n",
    "     1. &1.& 1.& 1.& 1.\\\\\n",
    "     1. &0& 0& 0& 1.\\\\\n",
    "     1. &0& 0& 0& 1.\\\\\n",
    "     1. &0& 0& 0& 1.\\\\\n",
    "     1. &1.& 1.& 1.& 1.\n",
    "     \\end{pmatrix}\n",
    "     $$\n",
    "> \n"
   ]
  },
  {
   "cell_type": "code",
   "execution_count": 15,
   "metadata": {},
   "outputs": [
    {
     "name": "stdout",
     "output_type": "stream",
     "text": [
      "[[1. 1. 1. 1. 1.]\n",
      " [1. 0. 0. 0. 1.]\n",
      " [1. 0. 0. 0. 1.]\n",
      " [1. 0. 0. 0. 1.]\n",
      " [1. 1. 1. 1. 1.]]\n"
     ]
    }
   ],
   "source": [
    "arrayOnes = np.ones((5,5))\n",
    "arrayOnes[1:-1,1:-1] = 0\n",
    "print(arrayOnes)"
   ]
  },
  {
   "cell_type": "markdown",
   "metadata": {},
   "source": [
    "\n",
    " - Write a Python program to create a 8x8 matrix and fill it with a checkerboard pattern\n",
    "> \n",
    "> \t- Checkerboard pattern:\n",
    ">$$\n",
    "     \\begin{pmatrix} \n",
    "        0 & 1 & 0 & 1 & 0 & 1 & 0 & 1\\\\\n",
    "        1 & 0 & 1 & 0 & 1 & 0 & 1 & 0\\\\\n",
    "        0 & 1 & 0 & 1 & 0 & 1 & 0 & 1\\\\\n",
    "        1 & 0 & 1 & 0 & 1 & 0 & 1 & 0\\\\\n",
    "        0 & 1 & 0 & 1 & 0 & 1 & 0 & 1 \\\\\n",
    "        1 & 0 & 1 & 0 & 1 & 0 & 1 & 0\\\\\n",
    "        0 & 1 & 0 & 1 & 0 & 1 & 0 & 1\\\\\n",
    "        1 & 0 & 1 & 0 & 1 & 0 & 1 & 0\n",
    "     \\end{pmatrix}\n",
    "     $$\n",
    "> \t- **Hint** Explore the use of $x[a::b,::c] = d,\tx[::e,f::g] = h$, where the letters are integer numbers.\n"
   ]
  },
  {
   "cell_type": "code",
   "execution_count": 27,
   "metadata": {},
   "outputs": [
    {
     "name": "stdout",
     "output_type": "stream",
     "text": [
      "[[0. 1. 0. 1. 0. 1. 0. 1.]\n",
      " [1. 0. 1. 0. 1. 0. 1. 0.]\n",
      " [0. 1. 0. 1. 0. 1. 0. 1.]\n",
      " [1. 0. 1. 0. 1. 0. 1. 0.]\n",
      " [0. 1. 0. 1. 0. 1. 0. 1.]\n",
      " [1. 0. 1. 0. 1. 0. 1. 0.]\n",
      " [0. 1. 0. 1. 0. 1. 0. 1.]\n",
      " [1. 0. 1. 0. 1. 0. 1. 0.]]\n"
     ]
    }
   ],
   "source": [
    "numpyArray = np.zeros((8,8))\n",
    "numpyArray[1::2,::2] = 1\n",
    "numpyArray[::2,1::2] = 1\n",
    "print(numpyArray)"
   ]
  },
  {
   "cell_type": "markdown",
   "metadata": {},
   "source": [
    " - Write a Python program to convert the values of Centigrade degrees into Fahrenheit degrees. Centigrade values are stored into a NumPy array.\n",
    ">     - Sample Array [0, 12, 45.21 ,34, 99.91]  \n",
    ">     - Expected Output:\n",
    ">     - Values in Fahrenheit degrees: [0.0 12.0 45.21 34.0 99.91]\n",
    ">     - Values in Centigrade degrees: [-17.77777778 -11.11111111 7.33888889 1.11111111 37.72777778].\n",
    "> \t- *Use functions and list comprehension* read the link https://www.pythonforbeginners.com/lists/list-comprehensions-in-python/, to additional information about of list comprehension in python.\n",
    ">     \n"
   ]
  },
  {
   "cell_type": "code",
   "execution_count": 32,
   "metadata": {},
   "outputs": [
    {
     "name": "stdout",
     "output_type": "stream",
     "text": [
      "[0, 12, 45.21, 34, 99.91]\n",
      "[-17.77777777777778, -11.11111111111111, 7.3388888888888895, 1.1111111111111112, 37.727777777777774]\n"
     ]
    }
   ],
   "source": [
    "List = [0, 12, 45.21, 34, 99.91]\n",
    "print(List)\n",
    "\n",
    "#Fahrenheit = list(map(lambda x: 1.8*x + 32, List))\n",
    "\n",
    "C = map(lambda x: (float(5)/9)*(x-32), List)\n",
    "print([i for i in C])\n"
   ]
  },
  {
   "cell_type": "markdown",
   "metadata": {},
   "source": [
    " - Write a Python program to find the set difference of two arrays. The set difference will return the sorted, unique values in array1 that are not in array2.\n",
    "> \t- Expected Output:\n",
    "> \t- Array1: [ 0 10 20 40 60 80]\n",
    "> \t- Array2: [10, 30, 40, 50, 70, 90]\n",
    "> \t- Set difference between two arrays: [ 0 20 60 80] \n",
    "> \t- **Hint**: explore the use of function *np.setdiff1d*.\n"
   ]
  },
  {
   "cell_type": "code",
   "execution_count": 28,
   "metadata": {},
   "outputs": [
    {
     "name": "stdout",
     "output_type": "stream",
     "text": [
      "[ 0 20 60 80]\n"
     ]
    }
   ],
   "source": [
    "array1 = np.array([0, 10, 20, 40, 60, 80])\n",
    "array2 = np.array([10, 30, 40, 50, 70])\n",
    "diference = np.setdiff1d(array1, array2)\n",
    "print(diference)"
   ]
  },
  {
   "cell_type": "markdown",
   "metadata": {},
   "source": [
    " - Write a Python program to create a 2-D array whose diagonal equals [4, 5, 6, 8] and 0's elsewhere."
   ]
  },
  {
   "cell_type": "code",
   "execution_count": 22,
   "metadata": {},
   "outputs": [
    {
     "name": "stdout",
     "output_type": "stream",
     "text": [
      "[[4 0 0 0]\n",
      " [0 5 0 0]\n",
      " [0 0 6 0]\n",
      " [0 0 0 8]]\n"
     ]
    }
   ],
   "source": [
    "arrayDiag = np.diagflat([4, 5, 6, 8])\n",
    "print(arrayDiag)"
   ]
  },
  {
   "cell_type": "code",
   "execution_count": null,
   "metadata": {},
   "outputs": [],
   "source": []
  }
 ],
 "metadata": {
  "kernelspec": {
   "display_name": "Python 3",
   "language": "python",
   "name": "python3"
  },
  "language_info": {
   "codemirror_mode": {
    "name": "ipython",
    "version": 3
   },
   "file_extension": ".py",
   "mimetype": "text/x-python",
   "name": "python",
   "nbconvert_exporter": "python",
   "pygments_lexer": "ipython3",
   "version": "3.6.4"
  }
 },
 "nbformat": 4,
 "nbformat_minor": 2
}
