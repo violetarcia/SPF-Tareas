{
 "cells": [
  {
   "cell_type": "markdown",
   "metadata": {},
   "source": [
    "Violeta García\n",
    "\n",
    "<img style=\"float: left; margin: 15px 15px 15px 15px;\" src=\"http://www.unionjalisco.mx/sites/default/files/styles/galeria/public/field/image/iteso_3_1.jpg?itok=M6pp1pEQ\" width=\"180\" height=\"50\" />\n",
    "\n",
    "# Simulación de Procesos Financieros\n",
    "\n",
    "## <font color= blue > Tarea IV \n",
    "   En esta tarea se resolveran los primeros ejercicios que impliquen simular para buscar respuestas a ciertas preguntas referentes al caso que se presente."
   ]
  },
  {
   "cell_type": "code",
   "execution_count": 2,
   "metadata": {},
   "outputs": [],
   "source": [
    "import numpy as np\n",
    "import matplotlib.pyplot as plt\n",
    "from functools import reduce"
   ]
  },
  {
   "cell_type": "markdown",
   "metadata": {},
   "source": [
    "## Ejercicio 1\n",
    "**Un juego de lanzamiento de una moneda**\n",
    "\n",
    "Eres el afortunado ganador de un concurso de sorteos. Su premio es unas vacaciones con todos los gastos pagados en un hotel importante en Las Vegas, incluyendo algunas fichas para apostar en el casino del hotel. Al ingresar al casino, descubres que, ademas de los juegos habituales (blackjack, ruleta, etc.), ofrecen un juego interesante con las siguientes reglas:\n",
    "\n",
    "*Reglas del juego*\n",
    "\n",
    "1) Cada jugada del juego consiste en lanzar repetidamente una moneda imparcial hasta que la diferencia entre el numero de caras lanzadas y el numero de sellos es 3\n",
    "\n",
    "2) Si decides jugar el juego, debes pagar 1 por cada lanzamiento de la moneda. No puedes salir durante una jugada del juego.\n",
    "\n",
    "3) Usted recibe 8 al final de cada uno de los juegos. Por lo tanto, ganas dinero si el numero de lanzamientos requeridos es menor a 8, pero pierdes si se requieren mas de 8 lanzamientos.\n"
   ]
  },
  {
   "cell_type": "code",
   "execution_count": 2,
   "metadata": {},
   "outputs": [],
   "source": [
    "n = 50\n",
    "def CaraSello(flips):\n",
    "    coin = np.random.rand(flips)\n",
    "    cara = 0 ; sello = 0; flip = 0; profit = 0\n",
    "    while abs(cara - sello) < 3 :\n",
    "        if coin[flip] < 0.5:\n",
    "            cara += 1\n",
    "        else:\n",
    "            sello += 1\n",
    "        flip += 1\n",
    "    profit = 8 - flip\n",
    "    return np.array([flip, cara, sello, profit])\n",
    "\n",
    "simulaciones = 100\n",
    "ans = np.array([CaraSello(n) for i in range(simulaciones)])\n",
    "#print(ans)"
   ]
  },
  {
   "cell_type": "markdown",
   "metadata": {},
   "source": [
    "a) ¿Cuál es el promedio de tiradas hasta que termina el juego?"
   ]
  },
  {
   "cell_type": "code",
   "execution_count": 3,
   "metadata": {},
   "outputs": [
    {
     "name": "stdout",
     "output_type": "stream",
     "text": [
      "Promedio =  9.66\n"
     ]
    }
   ],
   "source": [
    "promedio = np.mean(ans[:,0])\n",
    "print('Promedio = ',promedio)"
   ]
  },
  {
   "cell_type": "markdown",
   "metadata": {},
   "source": [
    "b) para el inciso anterior ¿Cuál es la probabilidad de que tires mas de 10 veces para terminar el juego?, ¿y de que tires menos de 5?"
   ]
  },
  {
   "cell_type": "code",
   "execution_count": 4,
   "metadata": {},
   "outputs": [
    {
     "name": "stdout",
     "output_type": "stream",
     "text": [
      "Probabilidad de tirar mas de 10 veces:  0.35\n",
      "Probabilidad de tirar menos de 5 veces:  0.18\n"
     ]
    }
   ],
   "source": [
    "probMas10 = len([x for x in ans[:,0] if x > 10])/len(ans[:,0])\n",
    "print('Probabilidad de tirar mas de 10 veces: ',probMas10)\n",
    "\n",
    "probMen5 = len([x for x in ans[:,0] if x < 5])/len(ans[:,0])\n",
    "print('Probabilidad de tirar menos de 5 veces: ',probMen5)"
   ]
  },
  {
   "cell_type": "markdown",
   "metadata": {},
   "source": [
    "c) Imagina que lanzas 100 tiros exactos la moneda ¿Cual es el valor esperado de dinero ganado/perdido? ¿Y tu valor mas probable? ¿Cual es la probabilidad de ganar dinero (Grafica el histograma de simulaciones)"
   ]
  },
  {
   "cell_type": "code",
   "execution_count": 5,
   "metadata": {},
   "outputs": [
    {
     "name": "stdout",
     "output_type": "stream",
     "text": [
      "Promedio =  -1.66\n",
      "Probabilidad de ganar:  0.56\n"
     ]
    },
    {
     "data": {
      "image/png": "[encoded data removed]",
      "text/plain": [
       "<Figure size 432x288 with 1 Axes>"
      ]
     },
     "metadata": {
      "needs_background": "light"
     },
     "output_type": "display_data"
    }
   ],
   "source": [
    "promedio = np.mean(ans[:,3])\n",
    "print('Promedio = ',promedio)\n",
    "\n",
    "probGan = len([x for x in ans[:,3] if x > 0])/len(ans[:,3])\n",
    "print('Probabilidad de ganar: ',probGan)\n",
    "\n",
    "plt.hist(ans[:,3], 100, density = True)\n",
    "plt.xlabel('Profit')\n",
    "plt.ylabel('probabilidad')\n",
    "plt.title('Histograma')\n",
    "plt.show()"
   ]
  },
  {
   "cell_type": "markdown",
   "metadata": {},
   "source": [
    "d) Imagina que comienzas con 30 ¿Cuál es el valor esperado del numero de tiradas que debes realizar antes de quedarte sin dinero? ¿Cual es la probabilidad de realizar mas de 150 tiradas? (grafica el histograma correspondiente)"
   ]
  },
  {
   "cell_type": "code",
   "execution_count": null,
   "metadata": {},
   "outputs": [],
   "source": [
    "n = 50\n",
    "def CaraSello_(flips):\n",
    "    coin = np.random.rand(flips)\n",
    "    cara = 0 ; sello = 0; flip = 0; profit = 30\n",
    "    while profit >= 0 and abs(cara - sello) < 3 :\n",
    "        profit -= 1\n",
    "        if coin[flip] < 0.5:\n",
    "            cara += 1\n",
    "        else:\n",
    "            sello += 1\n",
    "        flip += 1\n",
    "        print(profit)\n",
    "    profit = +8\n",
    "    return np.array([flip, cara, sello, profit])\n",
    "\n",
    "simulaciones = 30\n",
    "ans = np.array([CaraSello_(n) for i in range(simulaciones)])\n",
    "print(ans)\n",
    "pierde = sum([x for x in ans[:,3]])\n",
    "print(pierde)"
   ]
  },
  {
   "cell_type": "markdown",
   "metadata": {},
   "source": [
    "## Ejercicio 2\n",
    "**Rustbelt Manufacturing Company emplea un equipo de mantenimiento para reparar sus maquinas segun sea necesario. La gerencia ahora quiere un estudio de simulacion para analizar cuál debe ser el tamaño de la tripulacion, donde los tamaños de la cuadrilla considerados son 2, 3 y 4. El tiempo requerido por la cuadrilla para repararuna máquina tiene una distribucion uniforme durante el intervalo de 0 a dos veces la media, donde la media depende del tamaño de la cuadrilla. La media es de 4 horas con dos miembros de la cuadrilla, 3 horas con tres miembros de la cuadrilla y 2 horas con cuatro miembros. El tiempo entre las interrupciones de alguna máquina tiene una distribución uniforme entre 3.5 y 9 horas.**\n",
    "\n",
    "Cuando una máquina se descompone y por lo tanto requiere reparacion, la gerencia desea realizar los siguientes analisis:\n",
    "\n",
    "Nota: Se quiere analizar el tiempo de espera de una máquina descompuesta, por lo tanto se tienen que analizar los tiempos de reparación y los tiempos de descomposición y ver si cuando se dana una nueva maquina todavía están reparando una máquina anterior o ya la repararon.\n"
   ]
  },
  {
   "cell_type": "code",
   "execution_count": 22,
   "metadata": {},
   "outputs": [],
   "source": [
    "def cuadrilla(n, media):\n",
    "    repara = np.random.uniform(0, 2, size = n)\n",
    "    tiempoRepa = repara*media\n",
    "    tiempoDaño = np.random.uniform(3.5, 9, size = n)\n",
    "    diferencia = tiempoDaño - tiempoRepa\n",
    "    tiempoEspera = np.zeros(n)\n",
    "    h = 0 \n",
    "    while n > h:\n",
    "        if h != 0 and diferencia[h-1]<0:\n",
    "            tiempoEspera[h] = diferencia[h] + tiempoEspera[h-1] \n",
    "        elif diferencia[h] > 0:\n",
    "            tiempoEspera[h] = 0\n",
    "        else:\n",
    "            tiempoEspera[h] = diferencia[h]\n",
    "        h += 1\n",
    "    return np.transpose(np.array([tiempoRepa, tiempoDaño, diferencia, abs(tiempoEspera)]))"
   ]
  },
  {
   "cell_type": "markdown",
   "metadata": {},
   "source": [
    "a) Comienza con una cuadrilla de tamaño 2, ¿Cuál es el tiempo medio de espera para reparar la máquina? ¿Cuál es la probabilidad de que una máquina tenga que esperar más de 8 horas para ser reparada? (dibuja el histograma correspondiente)."
   ]
  },
  {
   "cell_type": "code",
   "execution_count": 24,
   "metadata": {},
   "outputs": [
    {
     "name": "stdout",
     "output_type": "stream",
     "text": [
      "Probabilidad de que una maquina espera mas de 8 horas para repara:  0.002\n"
     ]
    },
    {
     "data": {
      "image/png": "[encoded data removed]",
      "text/plain": [
       "<Figure size 432x288 with 1 Axes>"
      ]
     },
     "metadata": {
      "needs_background": "light"
     },
     "output_type": "display_data"
    }
   ],
   "source": [
    "maquinas = 1000\n",
    "media2 = 4\n",
    "DosPersonas = cuadrilla(maquinas, media2)\n",
    "Promedio = np.mean(DosPersonas[:,3])\n",
    "print('Promedio de espera con cuartilla de 2 = ', Promedio)\n",
    "\n",
    "probMaq8 = len([x for x in DosPersonas[:,3] if x > 8])/len(DosPersonas[:,3])\n",
    "print('Probabilidad de que una maquina espera mas de 8 horas para reparar: ',probMaq8)\n",
    "\n",
    "plt.hist(DosPersonas[:,3], 100, density = True)\n",
    "plt.xlabel('Horas de Espera')\n",
    "plt.ylabel('probabilidad')\n",
    "plt.title('Histograma')\n",
    "plt.show()"
   ]
  },
  {
   "cell_type": "markdown",
   "metadata": {},
   "source": [
    "b) Repita el inciso a pero para una cuadrilla de tamaño 3, ¿Cuál es el tiempo medio de espera para reparar la máquina? ¿Cuál es la probabilidad de que una máquina tenga que esperar más de 3 horas para ser reparada? (dibuja el histograma correspondiente)"
   ]
  },
  {
   "cell_type": "code",
   "execution_count": 27,
   "metadata": {},
   "outputs": [
    {
     "name": "stdout",
     "output_type": "stream",
     "text": [
      "Promedio de espera con cuartilla de 3 =  0.33010375752518256\n",
      "Probabilidad de que una maquina espera mas de 3 horas para reparla:  0.038\n"
     ]
    },
    {
     "data": {
      "image/png": "[encoded data removed]",
      "text/plain": [
       "<Figure size 432x288 with 1 Axes>"
      ]
     },
     "metadata": {
      "needs_background": "light"
     },
     "output_type": "display_data"
    }
   ],
   "source": [
    "maquinas = 1000\n",
    "media3 = 3\n",
    "TresPersonas = cuadrilla(maquinas, media3)\n",
    "Promedio = np.mean(TresPersonas[:,3])\n",
    "print('Promedio de espera con cuartilla de 3 = ', Promedio)\n",
    "\n",
    "probMaq3 = len([x for x in TresPersonas[:,3] if x > 3])/len(TresPersonas[:,3])\n",
    "print('Probabilidad de que una maquina espera mas de 3 horas para reparla: ',probMaq3)\n",
    "\n",
    "plt.hist(TresPersonas[:,3], 100, density = True)\n",
    "plt.xlabel('Horas de Espera')\n",
    "plt.ylabel('probabilidad')\n",
    "plt.title('Histograma')\n",
    "plt.show()"
   ]
  },
  {
   "cell_type": "markdown",
   "metadata": {},
   "source": [
    "c) Repita el inciso b para una cuadrilla de tamaño 4."
   ]
  },
  {
   "cell_type": "code",
   "execution_count": 26,
   "metadata": {},
   "outputs": [
    {
     "name": "stdout",
     "output_type": "stream",
     "text": [
      "Promedio de espera con cuartilla de 4 =  0.0\n",
      "Probabilidad de que una maquina espera mas de 3 horas para reparla:  0.0\n"
     ]
    },
    {
     "data": {
      "image/png": "[encoded data removed]",
      "text/plain": [
       "<Figure size 432x288 with 1 Axes>"
      ]
     },
     "metadata": {
      "needs_background": "light"
     },
     "output_type": "display_data"
    }
   ],
   "source": [
    "maquinas = 10\n",
    "media4 = 2\n",
    "CuatroPersonas = cuadrilla(maquinas, media4)\n",
    "Promedio = np.mean(CuatroPersonas[:,3])\n",
    "print('Promedio de espera con cuartilla de 4 = ', Promedio)\n",
    "\n",
    "probMaq3 = len([x for x in CuatroPersonas[:,3] if x > 3])/len(CuatroPersonas[:,3])\n",
    "print('Probabilidad de que una maquina espera mas de 3 horas para reparla: ',probMaq3)\n",
    "\n",
    "plt.hist(CuatroPersonas[:,3], 100, density = True)\n",
    "plt.xlabel('Horas de Espera')\n",
    "plt.ylabel('probabilidad')\n",
    "plt.title('Histograma')\n",
    "plt.show()"
   ]
  },
  {
   "cell_type": "markdown",
   "metadata": {},
   "source": [
    "## Ejercicio 3\n",
    "El juego  de dados requiere que el jugador arroje dos dados una o más veces hasta que se llegue a una decisión sobre si él (o ella) gana o pierde. El gana si la primera tirada resulta en una suma de 7 u 11 ó, alternativamente, si la primera suma es 4, 5, 6, 8, 9 o 10 y la misma suma reaparece antes de que aparezca una suma de 7. Por el contrario, pierde si la primera tirada resulta en una suma de 2, 3 o 12 o, alternativamente, si la primera suma es 4, 5, 6, 8, 9 o 10 y aparece una suma de 7 antes de la primera suma reaparece.\n",
    "\n",
    "a) calcule la probabilidad de ganar corriendo 10,000 simulaciones.\n",
    "\n",
    "b) Imagina que cada juego ganas o pierdes 50. Si inicias con 500. ¿Cuál es tu valor esperado de dinero después de 10 juegos? ¿y el más probable? ¿Cuál es la probabilidad de ganar dinero?.\n"
   ]
  },
  {
   "cell_type": "code",
   "execution_count": 62,
   "metadata": {},
   "outputs": [],
   "source": [
    "n = 30\n",
    "def Dados(n):\n",
    "    dado1 = np.random.randint(1,7, size = n); dado2 = np.random.randint(1,7, size = n)\n",
    "    suma = dado1 + dado2\n",
    "    el = 0; ella = 0; i = 0\n",
    "    if suma[0] in [7, 11]:\n",
    "        el = 1\n",
    "        \n",
    "    elif suma[0] in [2, 3, 12]:\n",
    "        ella = 1\n",
    "    else:\n",
    "        while suma[i+1] != 7:\n",
    "            if suma[0] in [4, 5, 6, 8, 9, 10] and suma[i+1] == suma[0] :\n",
    "                el = 1\n",
    "                break\n",
    "            i += 1\n",
    "        if el == 1:\n",
    "            ella = 0\n",
    "        else:\n",
    "            ella = 1\n",
    "        i += 1\n",
    "    answer = np.array([i+1, el, ella])\n",
    "    return answer"
   ]
  },
  {
   "cell_type": "code",
   "execution_count": 66,
   "metadata": {},
   "outputs": [
    {
     "name": "stdout",
     "output_type": "stream",
     "text": [
      "Probabilidad de ganar:  0.4998\n"
     ]
    }
   ],
   "source": [
    "simulaciones = 10000\n",
    "ans = np.array([Dados(n) for i in range(simulaciones)])\n",
    "\n",
    "probGan = len([x for x in ans[:,1] if x > 0])/len(ans[:,1])\n",
    "print('Probabilidad de ganar: ',probGan)"
   ]
  },
  {
   "cell_type": "markdown",
   "metadata": {},
   "source": [
    "## Ejercicio 4\n",
    "Una inversión  en cetes actualmente promete un rendimiento que va entre el 8 % y el 12 % anual\n",
    "\n",
    "a) Considera la cantidad total de dinero que obtendrás al final del año dado una inversión inicial de \\\\$300,000. Realiza un programa que simule 10,000 escenarios diferentes que puedan suceder, calcula su media, su desviación estándar y grafica su histograma."
   ]
  },
  {
   "cell_type": "code",
   "execution_count": 28,
   "metadata": {},
   "outputs": [
    {
     "name": "stdout",
     "output_type": "stream",
     "text": [
      "media =  30056.116400479877\n",
      "desviacion =  3474.1966116341687\n",
      "tasa =  0.10018705466826626\n"
     ]
    },
    {
     "data": {
      "image/png": "[encoded data removed]",
      "text/plain": [
       "<Figure size 432x288 with 1 Axes>"
      ]
     },
     "metadata": {
      "needs_background": "light"
     },
     "output_type": "display_data"
    }
   ],
   "source": [
    "inicial = 300000\n",
    "simulaciones = 10000\n",
    "tasa = (np.random.rand(simulaciones)*(12-8)+8)/100\n",
    "\n",
    "rendimiento = inicial*tasa\n",
    "\n",
    "print('media = ', np.mean(rendimiento))\n",
    "print('desviacion = ', np.std(rendimiento))\n",
    "\n",
    "print('tasa = ', np.mean(tasa))\n",
    "\n",
    "plt.hist(rendimiento, 100, density = False)\n",
    "plt.xlabel('Inversion')\n",
    "plt.ylabel('probabilidad')\n",
    "plt.title('Histograma')\n",
    "plt.show()"
   ]
  },
  {
   "cell_type": "markdown",
   "metadata": {},
   "source": [
    "b) Ahora supón que dejas el dinero durante 6 años, Realiza un programa que simule 10,000 escenarios diferentes que puedan suceder, calcula su media, su desviación estándar y grafica su histograma. ¿Cuál es la probabilidad de ganar más de \\$58,000? ¿Cuál es la probabilidad de ganar menos de \\\\$55,000?."
   ]
  },
  {
   "cell_type": "code",
   "execution_count": 29,
   "metadata": {},
   "outputs": [
    {
     "name": "stdout",
     "output_type": "stream",
     "text": [
      "media =  232039.60850563712\n",
      "desviacion =  33495.95409331445\n"
     ]
    },
    {
     "data": {
      "image/png": "[encoded data removed]",
      "text/plain": [
       "<Figure size 432x288 with 1 Axes>"
      ]
     },
     "metadata": {
      "needs_background": "light"
     },
     "output_type": "display_data"
    },
    {
     "name": "stdout",
     "output_type": "stream",
     "text": [
      "Probabilidad de ganar mas de $58,000:  1.0\n",
      "Probabilidad de tirar menos de $55,000:  0.0\n"
     ]
    }
   ],
   "source": [
    "inicial = 300000\n",
    "simulaciones = 10000\n",
    "tasa = (np.random.rand(simulaciones)*(12-8)+8)/100\n",
    "\n",
    "ganancia = inicial*(1+tasa)**6\n",
    "rendimiento = ganancia - inicial\n",
    "print('media = ', np.mean(rendimiento))\n",
    "print('desviacion = ', np.std(rendimiento))\n",
    "\n",
    "plt.hist(rendimiento, 20, density = True)\n",
    "plt.xlabel('Inversion')\n",
    "plt.ylabel('probabilidad')\n",
    "plt.title('Histograma')\n",
    "plt.show()\n",
    "\n",
    "probMas58 = len([x for x in rendimiento if x > 58000])/len(rendimiento)\n",
    "print('Probabilidad de ganar mas de $58,000: ',probMas58)\n",
    "\n",
    "probMen55 = len([x for x in rendimiento if x < 55000])/len(rendimiento)\n",
    "print('Probabilidad de tirar menos de $55,000: ',probMen55)"
   ]
  },
  {
   "cell_type": "markdown",
   "metadata": {},
   "source": [
    "c) Repite el inciso b, pero suponiendo que el rendimiento es discreto, es decir, solo puede tomar los valores enteros 8,9,10,11,12. ¿Cuál es la probabilidad de ganar entre \\\\$53,000 y \\\\$56,000?"
   ]
  },
  {
   "cell_type": "code",
   "execution_count": 30,
   "metadata": {},
   "outputs": [
    {
     "name": "stdout",
     "output_type": "stream",
     "text": [
      "media =  232039.60850563712\n",
      "desviacion =  33495.95409331445\n",
      "tasa =  0.10200000000000001\n",
      "ganancia =  38673.26808427285\n"
     ]
    },
    {
     "data": {
      "image/png": "[encoded data removed]",
      "text/plain": [
       "<Figure size 432x288 with 1 Axes>"
      ]
     },
     "metadata": {
      "needs_background": "light"
     },
     "output_type": "display_data"
    },
    {
     "name": "stdout",
     "output_type": "stream",
     "text": [
      "Probabilidad de ganar entre $56,000 y $53,000:  0.0\n"
     ]
    }
   ],
   "source": [
    "inicial = 300000\n",
    "simulaciones = 5\n",
    "tasa = (np.random.randint(8,13, size = simulaciones))/100\n",
    "\n",
    "print('media = ', np.mean(rendimiento))\n",
    "print('desviacion = ', np.std(rendimiento))\n",
    "print('tasa = ', np.mean(tasa))\n",
    "print('ganancia = ', np.mean(rendimiento)/6)\n",
    "\n",
    "plt.hist(rendimiento, 100, density = True)\n",
    "plt.xlabel('Inversion')\n",
    "plt.ylabel('probabilidad')\n",
    "plt.title('Histograma')\n",
    "plt.show()\n",
    "\n",
    "probEntre = len([x for x in rendimiento if x > 53000 and x < 56000])/len(rendimiento)\n",
    "print('Probabilidad de ganar entre $56,000 y $53,000: ',probEntre)\n"
   ]
  },
  {
   "cell_type": "code",
   "execution_count": null,
   "metadata": {},
   "outputs": [],
   "source": []
  }
 ],
 "metadata": {
  "kernelspec": {
   "display_name": "Python 3",
   "language": "python",
   "name": "python3"
  },
  "language_info": {
   "codemirror_mode": {
    "name": "ipython",
    "version": 3
   },
   "file_extension": ".py",
   "mimetype": "text/x-python",
   "name": "python",
   "nbconvert_exporter": "python",
   "pygments_lexer": "ipython3",
   "version": "3.7.3"
  }
 },
 "nbformat": 4,
 "nbformat_minor": 2
}
